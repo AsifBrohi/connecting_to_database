{
 "cells": [
  {
   "cell_type": "code",
   "execution_count": 2,
   "id": "2b7c3edb",
   "metadata": {},
   "outputs": [],
   "source": [
    "import pandas as pd \n",
    "import numpy as np"
   ]
  },
  {
   "cell_type": "code",
   "execution_count": 12,
   "id": "fda41107",
   "metadata": {},
   "outputs": [
    {
     "data": {
      "text/html": [
       "<div>\n",
       "<style scoped>\n",
       "    .dataframe tbody tr th:only-of-type {\n",
       "        vertical-align: middle;\n",
       "    }\n",
       "\n",
       "    .dataframe tbody tr th {\n",
       "        vertical-align: top;\n",
       "    }\n",
       "\n",
       "    .dataframe thead th {\n",
       "        text-align: right;\n",
       "    }\n",
       "</style>\n",
       "<table border=\"1\" class=\"dataframe\">\n",
       "  <thead>\n",
       "    <tr style=\"text-align: right;\">\n",
       "      <th></th>\n",
       "      <th>Normalised City Pair</th>\n",
       "      <th>Departure Code</th>\n",
       "      <th>Arrival Code</th>\n",
       "      <th>distance (miles)</th>\n",
       "      <th>distance (Km)</th>\n",
       "    </tr>\n",
       "  </thead>\n",
       "  <tbody>\n",
       "    <tr>\n",
       "      <th>0</th>\n",
       "      <td>London, United Kingdom - New York, United Stat...</td>\n",
       "      <td>LHR</td>\n",
       "      <td>JFK</td>\n",
       "      <td>3446</td>\n",
       "      <td>5546</td>\n",
       "    </tr>\n",
       "    <tr>\n",
       "      <th>1</th>\n",
       "      <td>Johannesburg, South Africa - London, United Ki...</td>\n",
       "      <td>JNB</td>\n",
       "      <td>LHR</td>\n",
       "      <td>5642</td>\n",
       "      <td>9080</td>\n",
       "    </tr>\n",
       "    <tr>\n",
       "      <th>2</th>\n",
       "      <td>London, United Kingdom - New York, United Stat...</td>\n",
       "      <td>LHR</td>\n",
       "      <td>JFK</td>\n",
       "      <td>3446</td>\n",
       "      <td>5546</td>\n",
       "    </tr>\n",
       "    <tr>\n",
       "      <th>3</th>\n",
       "      <td>Johannesburg, South Africa - London, United Ki...</td>\n",
       "      <td>JNB</td>\n",
       "      <td>LHR</td>\n",
       "      <td>5642</td>\n",
       "      <td>9080</td>\n",
       "    </tr>\n",
       "    <tr>\n",
       "      <th>4</th>\n",
       "      <td>London, United Kingdom - Singapore, Singapore</td>\n",
       "      <td>SIN</td>\n",
       "      <td>LHR</td>\n",
       "      <td>6771</td>\n",
       "      <td>10898</td>\n",
       "    </tr>\n",
       "  </tbody>\n",
       "</table>\n",
       "</div>"
      ],
      "text/plain": [
       "                                Normalised City Pair Departure Code  \\\n",
       "0  London, United Kingdom - New York, United Stat...            LHR   \n",
       "1  Johannesburg, South Africa - London, United Ki...            JNB   \n",
       "2  London, United Kingdom - New York, United Stat...            LHR   \n",
       "3  Johannesburg, South Africa - London, United Ki...            JNB   \n",
       "4      London, United Kingdom - Singapore, Singapore            SIN   \n",
       "\n",
       "  Arrival Code  distance (miles)  distance (Km)  \n",
       "0          JFK              3446           5546  \n",
       "1          LHR              5642           9080  \n",
       "2          JFK              3446           5546  \n",
       "3          LHR              5642           9080  \n",
       "4          LHR              6771          10898  "
      ]
     },
     "execution_count": 12,
     "metadata": {},
     "output_type": "execute_result"
    }
   ],
   "source": [
    "df = pd.read_csv('flight_distance.csv')\n",
    "\n",
    "drop_column = [\n",
    "    \"Departure_lat\",\n",
    "    \"Departure_lon\",\n",
    "    \"Arrival_lat\",\n",
    "    \"Arrival_lon\",\n",
    "    \"lat_1\",\n",
    "    \"lat_2\",\n",
    "    \"lon_1\",\n",
    "    \"lon_2\",\n",
    "    \"lat_1_radians\",\n",
    "    \"lat_2_radians\",\n",
    "    \"lon_1_radians\",\n",
    "    \"lon_2_radians\"\n",
    "    ]\n",
    "df.drop(columns=drop_column, inplace=True)\n",
    "df.head()"
   ]
  },
  {
   "cell_type": "code",
   "execution_count": null,
   "id": "11cb9815",
   "metadata": {},
   "outputs": [],
   "source": []
  }
 ],
 "metadata": {
  "kernelspec": {
   "display_name": "Python 3.8.6 ('.venv': venv)",
   "language": "python",
   "name": "python3"
  },
  "language_info": {
   "codemirror_mode": {
    "name": "ipython",
    "version": 3
   },
   "file_extension": ".py",
   "mimetype": "text/x-python",
   "name": "python",
   "nbconvert_exporter": "python",
   "pygments_lexer": "ipython3",
   "version": "3.8.6"
  },
  "vscode": {
   "interpreter": {
    "hash": "4e06b6394fc21756c26c4387795c8b67b8106c06e2f3117979b9fcaa7efcbe35"
   }
  }
 },
 "nbformat": 4,
 "nbformat_minor": 5
}
